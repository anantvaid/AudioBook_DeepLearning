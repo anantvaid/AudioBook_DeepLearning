{
  "nbformat": 4,
  "nbformat_minor": 0,
  "metadata": {
    "colab": {
      "name": "AudioBooks.ipynb",
      "provenance": [],
      "collapsed_sections": []
    },
    "kernelspec": {
      "name": "python3",
      "display_name": "Python 3"
    }
  },
  "cells": [
    {
      "cell_type": "code",
      "metadata": {
        "id": "jsFJAlYDWnwK",
        "colab_type": "code",
        "colab": {}
      },
      "source": [
        "import numpy as np\n",
        "import tensorflow as tf\n",
        "from sklearn import preprocessing"
      ],
      "execution_count": 0,
      "outputs": []
    },
    {
      "cell_type": "code",
      "metadata": {
        "id": "J26vcut5m0YG",
        "colab_type": "code",
        "colab": {}
      },
      "source": [
        "import pandas as pd\n",
        "from sklearn.utils import resample\n",
        "\n",
        "df = pd.read_csv('original.csv',header=None)"
      ],
      "execution_count": 0,
      "outputs": []
    },
    {
      "cell_type": "code",
      "metadata": {
        "id": "Pa2eq3EknKdY",
        "colab_type": "code",
        "outputId": "4ee8ae2b-2121-4f12-e5c1-e62060d4b016",
        "colab": {
          "base_uri": "https://localhost:8080/",
          "height": 206
        }
      },
      "source": [
        "df.head()"
      ],
      "execution_count": 58,
      "outputs": [
        {
          "output_type": "execute_result",
          "data": {
            "text/html": [
              "<div>\n",
              "<style scoped>\n",
              "    .dataframe tbody tr th:only-of-type {\n",
              "        vertical-align: middle;\n",
              "    }\n",
              "\n",
              "    .dataframe tbody tr th {\n",
              "        vertical-align: top;\n",
              "    }\n",
              "\n",
              "    .dataframe thead th {\n",
              "        text-align: right;\n",
              "    }\n",
              "</style>\n",
              "<table border=\"1\" class=\"dataframe\">\n",
              "  <thead>\n",
              "    <tr style=\"text-align: right;\">\n",
              "      <th></th>\n",
              "      <th>0</th>\n",
              "      <th>1</th>\n",
              "      <th>2</th>\n",
              "      <th>3</th>\n",
              "      <th>4</th>\n",
              "      <th>5</th>\n",
              "      <th>6</th>\n",
              "      <th>7</th>\n",
              "      <th>8</th>\n",
              "      <th>9</th>\n",
              "      <th>10</th>\n",
              "      <th>11</th>\n",
              "    </tr>\n",
              "  </thead>\n",
              "  <tbody>\n",
              "    <tr>\n",
              "      <th>0</th>\n",
              "      <td>994</td>\n",
              "      <td>1620.0</td>\n",
              "      <td>1620</td>\n",
              "      <td>19.73</td>\n",
              "      <td>19.73</td>\n",
              "      <td>1</td>\n",
              "      <td>10.00</td>\n",
              "      <td>0.99</td>\n",
              "      <td>1603.8</td>\n",
              "      <td>5</td>\n",
              "      <td>92</td>\n",
              "      <td>0</td>\n",
              "    </tr>\n",
              "    <tr>\n",
              "      <th>1</th>\n",
              "      <td>1143</td>\n",
              "      <td>2160.0</td>\n",
              "      <td>2160</td>\n",
              "      <td>5.33</td>\n",
              "      <td>5.33</td>\n",
              "      <td>0</td>\n",
              "      <td>8.91</td>\n",
              "      <td>0.00</td>\n",
              "      <td>0.0</td>\n",
              "      <td>0</td>\n",
              "      <td>0</td>\n",
              "      <td>0</td>\n",
              "    </tr>\n",
              "    <tr>\n",
              "      <th>2</th>\n",
              "      <td>2059</td>\n",
              "      <td>2160.0</td>\n",
              "      <td>2160</td>\n",
              "      <td>5.33</td>\n",
              "      <td>5.33</td>\n",
              "      <td>0</td>\n",
              "      <td>8.91</td>\n",
              "      <td>0.00</td>\n",
              "      <td>0.0</td>\n",
              "      <td>0</td>\n",
              "      <td>388</td>\n",
              "      <td>0</td>\n",
              "    </tr>\n",
              "    <tr>\n",
              "      <th>3</th>\n",
              "      <td>2882</td>\n",
              "      <td>1620.0</td>\n",
              "      <td>1620</td>\n",
              "      <td>5.96</td>\n",
              "      <td>5.96</td>\n",
              "      <td>0</td>\n",
              "      <td>8.91</td>\n",
              "      <td>0.42</td>\n",
              "      <td>680.4</td>\n",
              "      <td>1</td>\n",
              "      <td>129</td>\n",
              "      <td>0</td>\n",
              "    </tr>\n",
              "    <tr>\n",
              "      <th>4</th>\n",
              "      <td>3342</td>\n",
              "      <td>2160.0</td>\n",
              "      <td>2160</td>\n",
              "      <td>5.33</td>\n",
              "      <td>5.33</td>\n",
              "      <td>0</td>\n",
              "      <td>8.91</td>\n",
              "      <td>0.22</td>\n",
              "      <td>475.2</td>\n",
              "      <td>0</td>\n",
              "      <td>361</td>\n",
              "      <td>0</td>\n",
              "    </tr>\n",
              "  </tbody>\n",
              "</table>\n",
              "</div>"
            ],
            "text/plain": [
              "     0       1     2      3      4   5      6     7       8   9    10  11\n",
              "0   994  1620.0  1620  19.73  19.73   1  10.00  0.99  1603.8   5   92   0\n",
              "1  1143  2160.0  2160   5.33   5.33   0   8.91  0.00     0.0   0    0   0\n",
              "2  2059  2160.0  2160   5.33   5.33   0   8.91  0.00     0.0   0  388   0\n",
              "3  2882  1620.0  1620   5.96   5.96   0   8.91  0.42   680.4   1  129   0\n",
              "4  3342  2160.0  2160   5.33   5.33   0   8.91  0.22   475.2   0  361   0"
            ]
          },
          "metadata": {
            "tags": []
          },
          "execution_count": 58
        }
      ]
    },
    {
      "cell_type": "code",
      "metadata": {
        "id": "asvXr3kFpjl6",
        "colab_type": "code",
        "outputId": "71755c27-639b-42f7-e98d-382b56eb3520",
        "colab": {
          "base_uri": "https://localhost:8080/",
          "height": 72
        }
      },
      "source": [
        "df[11].value_counts()"
      ],
      "execution_count": 59,
      "outputs": [
        {
          "output_type": "execute_result",
          "data": {
            "text/plain": [
              "0    11847\n",
              "1     2237\n",
              "Name: 11, dtype: int64"
            ]
          },
          "metadata": {
            "tags": []
          },
          "execution_count": 59
        }
      ]
    },
    {
      "cell_type": "code",
      "metadata": {
        "id": "vwUvKOvrpo3p",
        "colab_type": "code",
        "colab": {}
      },
      "source": [
        "zero = df[df[11] == 0]\n",
        "one = df[df[11] == 1]"
      ],
      "execution_count": 0,
      "outputs": []
    },
    {
      "cell_type": "code",
      "metadata": {
        "id": "P0vl8UBkp48_",
        "colab_type": "code",
        "outputId": "1e330a16-28eb-4a91-935a-0a9d875ffab4",
        "colab": {
          "base_uri": "https://localhost:8080/",
          "height": 35
        }
      },
      "source": [
        "zero.shape"
      ],
      "execution_count": 61,
      "outputs": [
        {
          "output_type": "execute_result",
          "data": {
            "text/plain": [
              "(11847, 12)"
            ]
          },
          "metadata": {
            "tags": []
          },
          "execution_count": 61
        }
      ]
    },
    {
      "cell_type": "code",
      "metadata": {
        "id": "E6_Uvq8up6FQ",
        "colab_type": "code",
        "outputId": "3ba1603f-c317-418d-f90b-092af648f1c7",
        "colab": {
          "base_uri": "https://localhost:8080/",
          "height": 35
        }
      },
      "source": [
        "one.shape"
      ],
      "execution_count": 62,
      "outputs": [
        {
          "output_type": "execute_result",
          "data": {
            "text/plain": [
              "(2237, 12)"
            ]
          },
          "metadata": {
            "tags": []
          },
          "execution_count": 62
        }
      ]
    },
    {
      "cell_type": "code",
      "metadata": {
        "id": "fSzEmr7ep7Jy",
        "colab_type": "code",
        "colab": {}
      },
      "source": [
        "new_zero = resample(zero, replace=False, n_samples=2237,random_state=42)"
      ],
      "execution_count": 0,
      "outputs": []
    },
    {
      "cell_type": "code",
      "metadata": {
        "id": "W051ML9eqQvO",
        "colab_type": "code",
        "outputId": "7139c9f0-b475-467d-97a7-8789feba3bd8",
        "colab": {
          "base_uri": "https://localhost:8080/",
          "height": 35
        }
      },
      "source": [
        "new_zero.shape"
      ],
      "execution_count": 64,
      "outputs": [
        {
          "output_type": "execute_result",
          "data": {
            "text/plain": [
              "(2237, 12)"
            ]
          },
          "metadata": {
            "tags": []
          },
          "execution_count": 64
        }
      ]
    },
    {
      "cell_type": "code",
      "metadata": {
        "id": "JGavHq7FqSJe",
        "colab_type": "code",
        "colab": {}
      },
      "source": [
        "df1 = pd.concat([new_zero,one])"
      ],
      "execution_count": 0,
      "outputs": []
    },
    {
      "cell_type": "code",
      "metadata": {
        "id": "iE5Nf2GKqdGv",
        "colab_type": "code",
        "outputId": "936ac0d8-c4b7-440d-f176-d477a90e2d3d",
        "colab": {
          "base_uri": "https://localhost:8080/",
          "height": 206
        }
      },
      "source": [
        "df1[11].value_counts()\n",
        "df1.head()"
      ],
      "execution_count": 66,
      "outputs": [
        {
          "output_type": "execute_result",
          "data": {
            "text/html": [
              "<div>\n",
              "<style scoped>\n",
              "    .dataframe tbody tr th:only-of-type {\n",
              "        vertical-align: middle;\n",
              "    }\n",
              "\n",
              "    .dataframe tbody tr th {\n",
              "        vertical-align: top;\n",
              "    }\n",
              "\n",
              "    .dataframe thead th {\n",
              "        text-align: right;\n",
              "    }\n",
              "</style>\n",
              "<table border=\"1\" class=\"dataframe\">\n",
              "  <thead>\n",
              "    <tr style=\"text-align: right;\">\n",
              "      <th></th>\n",
              "      <th>0</th>\n",
              "      <th>1</th>\n",
              "      <th>2</th>\n",
              "      <th>3</th>\n",
              "      <th>4</th>\n",
              "      <th>5</th>\n",
              "      <th>6</th>\n",
              "      <th>7</th>\n",
              "      <th>8</th>\n",
              "      <th>9</th>\n",
              "      <th>10</th>\n",
              "      <th>11</th>\n",
              "    </tr>\n",
              "  </thead>\n",
              "  <tbody>\n",
              "    <tr>\n",
              "      <th>9786</th>\n",
              "      <td>30380</td>\n",
              "      <td>1188.0</td>\n",
              "      <td>1188</td>\n",
              "      <td>5.33</td>\n",
              "      <td>5.33</td>\n",
              "      <td>0</td>\n",
              "      <td>8.91</td>\n",
              "      <td>0.00</td>\n",
              "      <td>0.00</td>\n",
              "      <td>0</td>\n",
              "      <td>0</td>\n",
              "      <td>0</td>\n",
              "    </tr>\n",
              "    <tr>\n",
              "      <th>1204</th>\n",
              "      <td>20343</td>\n",
              "      <td>1188.0</td>\n",
              "      <td>1188</td>\n",
              "      <td>5.33</td>\n",
              "      <td>5.33</td>\n",
              "      <td>0</td>\n",
              "      <td>8.91</td>\n",
              "      <td>0.00</td>\n",
              "      <td>0.00</td>\n",
              "      <td>0</td>\n",
              "      <td>0</td>\n",
              "      <td>0</td>\n",
              "    </tr>\n",
              "    <tr>\n",
              "      <th>4846</th>\n",
              "      <td>4194</td>\n",
              "      <td>1620.0</td>\n",
              "      <td>1620</td>\n",
              "      <td>7.47</td>\n",
              "      <td>7.47</td>\n",
              "      <td>0</td>\n",
              "      <td>8.91</td>\n",
              "      <td>0.02</td>\n",
              "      <td>32.40</td>\n",
              "      <td>0</td>\n",
              "      <td>296</td>\n",
              "      <td>0</td>\n",
              "    </tr>\n",
              "    <tr>\n",
              "      <th>11647</th>\n",
              "      <td>3434</td>\n",
              "      <td>1188.0</td>\n",
              "      <td>1188</td>\n",
              "      <td>5.33</td>\n",
              "      <td>5.33</td>\n",
              "      <td>0</td>\n",
              "      <td>8.91</td>\n",
              "      <td>0.14</td>\n",
              "      <td>166.32</td>\n",
              "      <td>0</td>\n",
              "      <td>2</td>\n",
              "      <td>0</td>\n",
              "    </tr>\n",
              "    <tr>\n",
              "      <th>3567</th>\n",
              "      <td>10733</td>\n",
              "      <td>1620.0</td>\n",
              "      <td>1620</td>\n",
              "      <td>5.87</td>\n",
              "      <td>5.87</td>\n",
              "      <td>0</td>\n",
              "      <td>8.91</td>\n",
              "      <td>0.00</td>\n",
              "      <td>0.00</td>\n",
              "      <td>0</td>\n",
              "      <td>0</td>\n",
              "      <td>0</td>\n",
              "    </tr>\n",
              "  </tbody>\n",
              "</table>\n",
              "</div>"
            ],
            "text/plain": [
              "          0       1     2     3     4   5     6     7       8   9    10  11\n",
              "9786   30380  1188.0  1188  5.33  5.33   0  8.91  0.00    0.00   0    0   0\n",
              "1204   20343  1188.0  1188  5.33  5.33   0  8.91  0.00    0.00   0    0   0\n",
              "4846    4194  1620.0  1620  7.47  7.47   0  8.91  0.02   32.40   0  296   0\n",
              "11647   3434  1188.0  1188  5.33  5.33   0  8.91  0.14  166.32   0    2   0\n",
              "3567   10733  1620.0  1620  5.87  5.87   0  8.91  0.00    0.00   0    0   0"
            ]
          },
          "metadata": {
            "tags": []
          },
          "execution_count": 66
        }
      ]
    },
    {
      "cell_type": "code",
      "metadata": {
        "id": "c64P0y7zqqV_",
        "colab_type": "code",
        "colab": {}
      },
      "source": [
        "df1.to_csv('final_balanced.csv',index=False, header=False)"
      ],
      "execution_count": 0,
      "outputs": []
    },
    {
      "cell_type": "code",
      "metadata": {
        "id": "JOjOSjO4rYDt",
        "colab_type": "code",
        "colab": {}
      },
      "source": [
        "data = np.loadtxt('final_balanced.csv', delimiter=',')\n",
        "unscaled_inp = data[:,1:-1]\n",
        "target = data[:,-1]"
      ],
      "execution_count": 0,
      "outputs": []
    },
    {
      "cell_type": "code",
      "metadata": {
        "id": "bp5IDhylr1o5",
        "colab_type": "code",
        "colab": {}
      },
      "source": [
        "scaled_inp = preprocessing.scale(unscaled_inp)"
      ],
      "execution_count": 0,
      "outputs": []
    },
    {
      "cell_type": "code",
      "metadata": {
        "id": "_YH9SfBosiMu",
        "colab_type": "code",
        "colab": {}
      },
      "source": [
        "shuffled_indices = np.arange(scaled_inp.shape[0])\n",
        "np.random.shuffle(shuffled_indices)\n",
        "\n",
        "shuffled_inp = scaled_inp[shuffled_indices]\n",
        "shuffled_targets = target[shuffled_indices]"
      ],
      "execution_count": 0,
      "outputs": []
    },
    {
      "cell_type": "code",
      "metadata": {
        "id": "7dgq2nQlskDd",
        "colab_type": "code",
        "colab": {}
      },
      "source": [
        ""
      ],
      "execution_count": 0,
      "outputs": []
    },
    {
      "cell_type": "code",
      "metadata": {
        "id": "8oWynGr_uuTk",
        "colab_type": "code",
        "outputId": "a0c4d3d4-22ee-43ee-9f56-bdd40ea0bd0a",
        "colab": {
          "base_uri": "https://localhost:8080/",
          "height": 72
        }
      },
      "source": [
        "sample_count = shuffled_inp.shape[0]\n",
        "\n",
        "train_sample_count = int(0.8 * sample_count)\n",
        "validation_sample_count = int(0.1 * sample_count)\n",
        "test_sample_count = sample_count - train_sample_count - validation_sample_count\n",
        "\n",
        "train_inp = shuffled_inp[:train_sample_count]\n",
        "train_target = shuffled_targets[:train_sample_count]\n",
        "\n",
        "validation_inp = shuffled_inp[train_sample_count:train_sample_count+validation_sample_count]\n",
        "validation_target = shuffled_targets[train_sample_count:train_sample_count+validation_sample_count]\n",
        "\n",
        "test_inp = shuffled_inp[train_sample_count+validation_sample_count:]\n",
        "test_target = shuffled_targets[train_sample_count+validation_sample_count:]\n",
        "\n",
        "print(np.sum(train_target)/train_sample_count)\n",
        "print(np.sum(validation_target)/validation_sample_count)\n",
        "print(np.sum(test_target)/test_sample_count)"
      ],
      "execution_count": 71,
      "outputs": [
        {
          "output_type": "stream",
          "text": [
            "0.5009779267951942\n",
            "0.4809843400447427\n",
            "0.5111607142857143\n"
          ],
          "name": "stdout"
        }
      ]
    },
    {
      "cell_type": "code",
      "metadata": {
        "id": "3T8VGdfSuyXo",
        "colab_type": "code",
        "colab": {}
      },
      "source": [
        "np.savez('Audibooks_data_train',inputs=train_inp, targets=train_target)\n",
        "np.savez('Audibooks_data_valid',inputs=validation_inp, targets=validation_target)\n",
        "np.savez('Audibooks_data_test',inputs=test_inp, targets=test_target)"
      ],
      "execution_count": 0,
      "outputs": []
    },
    {
      "cell_type": "code",
      "metadata": {
        "id": "QC7_TrL02ZXB",
        "colab_type": "code",
        "colab": {}
      },
      "source": [
        "npz = np.load('Audibooks_data_train.npz')\n",
        "train_inp = npz['inputs'].astype(np.float)\n",
        "train_target = npz['targets'].astype(np.float)\n",
        "\n",
        "npz = np.load('Audibooks_data_valid.npz')\n",
        "valid_inp = npz['inputs'].astype(np.float)\n",
        "valid_target = npz['targets'].astype(np.float)\n",
        "\n",
        "npz = np.load('Audibooks_data_test.npz')\n",
        "test_inp = npz['inputs'].astype(np.float)\n",
        "test_target = npz['targets'].astype(np.float)"
      ],
      "execution_count": 0,
      "outputs": []
    },
    {
      "cell_type": "code",
      "metadata": {
        "id": "SgO36iKe3PdY",
        "colab_type": "code",
        "colab": {
          "base_uri": "https://localhost:8080/",
          "height": 1000
        },
        "outputId": "40dbd16c-21fc-4aaa-85ab-8af251f45c63"
      },
      "source": [
        "input_size = 10     # 10 Predictors\n",
        "hidden_size = 50\n",
        "output_size = 2\n",
        "\n",
        "model = tf.keras.Sequential([\n",
        "                             tf.keras.layers.Dense(32, activation='relu'),\n",
        "                             tf.keras.layers.Dense(output_size, activation='softmax')\n",
        "])\n",
        "\n",
        "adam = tf.keras.optimizers.Adam(\n",
        "    learning_rate=0.0001, beta_1=0.9, beta_2=0.999, epsilon=1e-07, amsgrad=False,\n",
        "    name='Adam'\n",
        ")\n",
        "\n",
        "model.compile(optimizer=adam,loss='sparse_categorical_crossentropy', metrics=['accuracy'])\n",
        "\n",
        "early_stopping = tf.keras.callbacks.EarlyStopping()\n",
        "\n",
        "batch_size = 100\n",
        "max_epochs = 100\n",
        "model.fit(train_inp,train_target,batch_size=batch_size,\n",
        "          callbacks=[early_stopping],epochs=max_epochs, validation_data=(valid_inp,valid_target),verbose=2)"
      ],
      "execution_count": 79,
      "outputs": [
        {
          "output_type": "stream",
          "text": [
            "Epoch 1/100\n",
            "36/36 - 0s - loss: 0.7190 - accuracy: 0.5823 - val_loss: 0.6970 - val_accuracy: 0.5861\n",
            "Epoch 2/100\n",
            "36/36 - 0s - loss: 0.6990 - accuracy: 0.5993 - val_loss: 0.6786 - val_accuracy: 0.6197\n",
            "Epoch 3/100\n",
            "36/36 - 0s - loss: 0.6807 - accuracy: 0.6194 - val_loss: 0.6614 - val_accuracy: 0.6465\n",
            "Epoch 4/100\n",
            "36/36 - 0s - loss: 0.6639 - accuracy: 0.6393 - val_loss: 0.6460 - val_accuracy: 0.6868\n",
            "Epoch 5/100\n",
            "36/36 - 0s - loss: 0.6485 - accuracy: 0.6583 - val_loss: 0.6316 - val_accuracy: 0.7092\n",
            "Epoch 6/100\n",
            "36/36 - 0s - loss: 0.6343 - accuracy: 0.6778 - val_loss: 0.6185 - val_accuracy: 0.7159\n",
            "Epoch 7/100\n",
            "36/36 - 0s - loss: 0.6212 - accuracy: 0.6963 - val_loss: 0.6066 - val_accuracy: 0.7315\n",
            "Epoch 8/100\n",
            "36/36 - 0s - loss: 0.6094 - accuracy: 0.7117 - val_loss: 0.5951 - val_accuracy: 0.7383\n",
            "Epoch 9/100\n",
            "36/36 - 0s - loss: 0.5982 - accuracy: 0.7220 - val_loss: 0.5847 - val_accuracy: 0.7562\n",
            "Epoch 10/100\n",
            "36/36 - 0s - loss: 0.5879 - accuracy: 0.7332 - val_loss: 0.5752 - val_accuracy: 0.7673\n",
            "Epoch 11/100\n",
            "36/36 - 0s - loss: 0.5784 - accuracy: 0.7390 - val_loss: 0.5660 - val_accuracy: 0.7763\n",
            "Epoch 12/100\n",
            "36/36 - 0s - loss: 0.5695 - accuracy: 0.7474 - val_loss: 0.5574 - val_accuracy: 0.7763\n",
            "Epoch 13/100\n",
            "36/36 - 0s - loss: 0.5611 - accuracy: 0.7491 - val_loss: 0.5496 - val_accuracy: 0.7808\n",
            "Epoch 14/100\n",
            "36/36 - 0s - loss: 0.5534 - accuracy: 0.7541 - val_loss: 0.5418 - val_accuracy: 0.7763\n",
            "Epoch 15/100\n",
            "36/36 - 0s - loss: 0.5459 - accuracy: 0.7575 - val_loss: 0.5347 - val_accuracy: 0.7740\n",
            "Epoch 16/100\n",
            "36/36 - 0s - loss: 0.5391 - accuracy: 0.7583 - val_loss: 0.5279 - val_accuracy: 0.7673\n",
            "Epoch 17/100\n",
            "36/36 - 0s - loss: 0.5327 - accuracy: 0.7619 - val_loss: 0.5216 - val_accuracy: 0.7651\n",
            "Epoch 18/100\n",
            "36/36 - 0s - loss: 0.5266 - accuracy: 0.7628 - val_loss: 0.5156 - val_accuracy: 0.7673\n",
            "Epoch 19/100\n",
            "36/36 - 0s - loss: 0.5209 - accuracy: 0.7625 - val_loss: 0.5100 - val_accuracy: 0.7673\n",
            "Epoch 20/100\n",
            "36/36 - 0s - loss: 0.5157 - accuracy: 0.7631 - val_loss: 0.5046 - val_accuracy: 0.7673\n",
            "Epoch 21/100\n",
            "36/36 - 0s - loss: 0.5105 - accuracy: 0.7639 - val_loss: 0.4995 - val_accuracy: 0.7673\n",
            "Epoch 22/100\n",
            "36/36 - 0s - loss: 0.5058 - accuracy: 0.7661 - val_loss: 0.4947 - val_accuracy: 0.7696\n",
            "Epoch 23/100\n",
            "36/36 - 0s - loss: 0.5015 - accuracy: 0.7678 - val_loss: 0.4903 - val_accuracy: 0.7718\n",
            "Epoch 24/100\n",
            "36/36 - 0s - loss: 0.4972 - accuracy: 0.7684 - val_loss: 0.4860 - val_accuracy: 0.7740\n",
            "Epoch 25/100\n",
            "36/36 - 0s - loss: 0.4933 - accuracy: 0.7681 - val_loss: 0.4819 - val_accuracy: 0.7763\n",
            "Epoch 26/100\n",
            "36/36 - 0s - loss: 0.4895 - accuracy: 0.7698 - val_loss: 0.4780 - val_accuracy: 0.7763\n",
            "Epoch 27/100\n",
            "36/36 - 0s - loss: 0.4860 - accuracy: 0.7703 - val_loss: 0.4744 - val_accuracy: 0.7763\n",
            "Epoch 28/100\n",
            "36/36 - 0s - loss: 0.4827 - accuracy: 0.7703 - val_loss: 0.4708 - val_accuracy: 0.7785\n",
            "Epoch 29/100\n",
            "36/36 - 0s - loss: 0.4794 - accuracy: 0.7712 - val_loss: 0.4675 - val_accuracy: 0.7785\n",
            "Epoch 30/100\n",
            "36/36 - 0s - loss: 0.4764 - accuracy: 0.7723 - val_loss: 0.4644 - val_accuracy: 0.7785\n",
            "Epoch 31/100\n",
            "36/36 - 0s - loss: 0.4734 - accuracy: 0.7754 - val_loss: 0.4613 - val_accuracy: 0.7808\n",
            "Epoch 32/100\n",
            "36/36 - 0s - loss: 0.4707 - accuracy: 0.7756 - val_loss: 0.4584 - val_accuracy: 0.7785\n",
            "Epoch 33/100\n",
            "36/36 - 0s - loss: 0.4680 - accuracy: 0.7770 - val_loss: 0.4555 - val_accuracy: 0.7785\n",
            "Epoch 34/100\n",
            "36/36 - 0s - loss: 0.4655 - accuracy: 0.7787 - val_loss: 0.4528 - val_accuracy: 0.7785\n",
            "Epoch 35/100\n",
            "36/36 - 0s - loss: 0.4631 - accuracy: 0.7793 - val_loss: 0.4502 - val_accuracy: 0.7830\n",
            "Epoch 36/100\n",
            "36/36 - 0s - loss: 0.4607 - accuracy: 0.7804 - val_loss: 0.4477 - val_accuracy: 0.7830\n",
            "Epoch 37/100\n",
            "36/36 - 0s - loss: 0.4584 - accuracy: 0.7809 - val_loss: 0.4453 - val_accuracy: 0.7808\n",
            "Epoch 38/100\n",
            "36/36 - 0s - loss: 0.4563 - accuracy: 0.7821 - val_loss: 0.4429 - val_accuracy: 0.7808\n",
            "Epoch 39/100\n",
            "36/36 - 0s - loss: 0.4542 - accuracy: 0.7815 - val_loss: 0.4407 - val_accuracy: 0.7830\n",
            "Epoch 40/100\n",
            "36/36 - 0s - loss: 0.4522 - accuracy: 0.7829 - val_loss: 0.4384 - val_accuracy: 0.7852\n",
            "Epoch 41/100\n",
            "36/36 - 0s - loss: 0.4502 - accuracy: 0.7832 - val_loss: 0.4363 - val_accuracy: 0.7875\n",
            "Epoch 42/100\n",
            "36/36 - 0s - loss: 0.4483 - accuracy: 0.7837 - val_loss: 0.4344 - val_accuracy: 0.7875\n",
            "Epoch 43/100\n",
            "36/36 - 0s - loss: 0.4465 - accuracy: 0.7849 - val_loss: 0.4324 - val_accuracy: 0.7897\n",
            "Epoch 44/100\n",
            "36/36 - 0s - loss: 0.4447 - accuracy: 0.7860 - val_loss: 0.4304 - val_accuracy: 0.7875\n",
            "Epoch 45/100\n",
            "36/36 - 0s - loss: 0.4430 - accuracy: 0.7865 - val_loss: 0.4286 - val_accuracy: 0.7852\n",
            "Epoch 46/100\n",
            "36/36 - 0s - loss: 0.4413 - accuracy: 0.7885 - val_loss: 0.4268 - val_accuracy: 0.7897\n",
            "Epoch 47/100\n",
            "36/36 - 0s - loss: 0.4397 - accuracy: 0.7888 - val_loss: 0.4249 - val_accuracy: 0.7964\n",
            "Epoch 48/100\n",
            "36/36 - 0s - loss: 0.4381 - accuracy: 0.7890 - val_loss: 0.4233 - val_accuracy: 0.7964\n",
            "Epoch 49/100\n",
            "36/36 - 0s - loss: 0.4366 - accuracy: 0.7893 - val_loss: 0.4216 - val_accuracy: 0.7964\n",
            "Epoch 50/100\n",
            "36/36 - 0s - loss: 0.4351 - accuracy: 0.7902 - val_loss: 0.4201 - val_accuracy: 0.7964\n",
            "Epoch 51/100\n",
            "36/36 - 0s - loss: 0.4337 - accuracy: 0.7913 - val_loss: 0.4186 - val_accuracy: 0.7987\n",
            "Epoch 52/100\n",
            "36/36 - 0s - loss: 0.4323 - accuracy: 0.7916 - val_loss: 0.4171 - val_accuracy: 0.7987\n",
            "Epoch 53/100\n",
            "36/36 - 0s - loss: 0.4309 - accuracy: 0.7924 - val_loss: 0.4157 - val_accuracy: 0.8009\n",
            "Epoch 54/100\n",
            "36/36 - 0s - loss: 0.4296 - accuracy: 0.7916 - val_loss: 0.4143 - val_accuracy: 0.8009\n",
            "Epoch 55/100\n",
            "36/36 - 0s - loss: 0.4283 - accuracy: 0.7921 - val_loss: 0.4129 - val_accuracy: 0.8009\n",
            "Epoch 56/100\n",
            "36/36 - 0s - loss: 0.4270 - accuracy: 0.7924 - val_loss: 0.4115 - val_accuracy: 0.8009\n",
            "Epoch 57/100\n",
            "36/36 - 0s - loss: 0.4258 - accuracy: 0.7930 - val_loss: 0.4102 - val_accuracy: 0.8009\n",
            "Epoch 58/100\n",
            "36/36 - 0s - loss: 0.4247 - accuracy: 0.7935 - val_loss: 0.4089 - val_accuracy: 0.8009\n",
            "Epoch 59/100\n",
            "36/36 - 0s - loss: 0.4235 - accuracy: 0.7938 - val_loss: 0.4079 - val_accuracy: 0.8009\n",
            "Epoch 60/100\n",
            "36/36 - 0s - loss: 0.4223 - accuracy: 0.7949 - val_loss: 0.4066 - val_accuracy: 0.8009\n",
            "Epoch 61/100\n",
            "36/36 - 0s - loss: 0.4213 - accuracy: 0.7949 - val_loss: 0.4055 - val_accuracy: 0.8054\n",
            "Epoch 62/100\n",
            "36/36 - 0s - loss: 0.4202 - accuracy: 0.7955 - val_loss: 0.4043 - val_accuracy: 0.8076\n",
            "Epoch 63/100\n",
            "36/36 - 0s - loss: 0.4192 - accuracy: 0.7952 - val_loss: 0.4033 - val_accuracy: 0.8076\n",
            "Epoch 64/100\n",
            "36/36 - 0s - loss: 0.4181 - accuracy: 0.7955 - val_loss: 0.4022 - val_accuracy: 0.8076\n",
            "Epoch 65/100\n",
            "36/36 - 0s - loss: 0.4171 - accuracy: 0.7952 - val_loss: 0.4013 - val_accuracy: 0.8098\n",
            "Epoch 66/100\n",
            "36/36 - 0s - loss: 0.4161 - accuracy: 0.7949 - val_loss: 0.4002 - val_accuracy: 0.8098\n",
            "Epoch 67/100\n",
            "36/36 - 0s - loss: 0.4152 - accuracy: 0.7955 - val_loss: 0.3991 - val_accuracy: 0.8121\n",
            "Epoch 68/100\n",
            "36/36 - 0s - loss: 0.4143 - accuracy: 0.7952 - val_loss: 0.3982 - val_accuracy: 0.8143\n",
            "Epoch 69/100\n",
            "36/36 - 0s - loss: 0.4133 - accuracy: 0.7958 - val_loss: 0.3974 - val_accuracy: 0.8143\n",
            "Epoch 70/100\n",
            "36/36 - 0s - loss: 0.4125 - accuracy: 0.7960 - val_loss: 0.3963 - val_accuracy: 0.8121\n",
            "Epoch 71/100\n",
            "36/36 - 0s - loss: 0.4116 - accuracy: 0.7969 - val_loss: 0.3956 - val_accuracy: 0.8143\n",
            "Epoch 72/100\n",
            "36/36 - 0s - loss: 0.4107 - accuracy: 0.7972 - val_loss: 0.3946 - val_accuracy: 0.8143\n",
            "Epoch 73/100\n",
            "36/36 - 0s - loss: 0.4098 - accuracy: 0.7963 - val_loss: 0.3936 - val_accuracy: 0.8188\n",
            "Epoch 74/100\n",
            "36/36 - 0s - loss: 0.4090 - accuracy: 0.7963 - val_loss: 0.3929 - val_accuracy: 0.8188\n",
            "Epoch 75/100\n",
            "36/36 - 0s - loss: 0.4082 - accuracy: 0.7963 - val_loss: 0.3921 - val_accuracy: 0.8188\n",
            "Epoch 76/100\n",
            "36/36 - 0s - loss: 0.4074 - accuracy: 0.7977 - val_loss: 0.3914 - val_accuracy: 0.8166\n",
            "Epoch 77/100\n",
            "36/36 - 0s - loss: 0.4066 - accuracy: 0.7983 - val_loss: 0.3905 - val_accuracy: 0.8166\n",
            "Epoch 78/100\n",
            "36/36 - 0s - loss: 0.4058 - accuracy: 0.7977 - val_loss: 0.3897 - val_accuracy: 0.8166\n",
            "Epoch 79/100\n",
            "36/36 - 0s - loss: 0.4051 - accuracy: 0.7974 - val_loss: 0.3890 - val_accuracy: 0.8188\n",
            "Epoch 80/100\n",
            "36/36 - 0s - loss: 0.4044 - accuracy: 0.7983 - val_loss: 0.3883 - val_accuracy: 0.8188\n",
            "Epoch 81/100\n",
            "36/36 - 0s - loss: 0.4037 - accuracy: 0.7983 - val_loss: 0.3875 - val_accuracy: 0.8188\n",
            "Epoch 82/100\n",
            "36/36 - 0s - loss: 0.4029 - accuracy: 0.7997 - val_loss: 0.3869 - val_accuracy: 0.8188\n",
            "Epoch 83/100\n",
            "36/36 - 0s - loss: 0.4023 - accuracy: 0.8002 - val_loss: 0.3861 - val_accuracy: 0.8188\n",
            "Epoch 84/100\n",
            "36/36 - 0s - loss: 0.4015 - accuracy: 0.7999 - val_loss: 0.3857 - val_accuracy: 0.8210\n",
            "Epoch 85/100\n",
            "36/36 - 0s - loss: 0.4008 - accuracy: 0.7997 - val_loss: 0.3849 - val_accuracy: 0.8210\n",
            "Epoch 86/100\n",
            "36/36 - 0s - loss: 0.4002 - accuracy: 0.7999 - val_loss: 0.3843 - val_accuracy: 0.8210\n",
            "Epoch 87/100\n",
            "36/36 - 0s - loss: 0.3995 - accuracy: 0.8005 - val_loss: 0.3836 - val_accuracy: 0.8210\n",
            "Epoch 88/100\n",
            "36/36 - 0s - loss: 0.3989 - accuracy: 0.8008 - val_loss: 0.3831 - val_accuracy: 0.8210\n",
            "Epoch 89/100\n",
            "36/36 - 0s - loss: 0.3983 - accuracy: 0.8019 - val_loss: 0.3823 - val_accuracy: 0.8210\n",
            "Epoch 90/100\n",
            "36/36 - 0s - loss: 0.3976 - accuracy: 0.8016 - val_loss: 0.3820 - val_accuracy: 0.8210\n",
            "Epoch 91/100\n",
            "36/36 - 0s - loss: 0.3970 - accuracy: 0.8025 - val_loss: 0.3812 - val_accuracy: 0.8210\n",
            "Epoch 92/100\n",
            "36/36 - 0s - loss: 0.3964 - accuracy: 0.8025 - val_loss: 0.3807 - val_accuracy: 0.8210\n",
            "Epoch 93/100\n",
            "36/36 - 0s - loss: 0.3958 - accuracy: 0.8022 - val_loss: 0.3801 - val_accuracy: 0.8210\n",
            "Epoch 94/100\n",
            "36/36 - 0s - loss: 0.3952 - accuracy: 0.8027 - val_loss: 0.3796 - val_accuracy: 0.8210\n",
            "Epoch 95/100\n",
            "36/36 - 0s - loss: 0.3947 - accuracy: 0.8030 - val_loss: 0.3792 - val_accuracy: 0.8210\n",
            "Epoch 96/100\n",
            "36/36 - 0s - loss: 0.3941 - accuracy: 0.8036 - val_loss: 0.3785 - val_accuracy: 0.8210\n",
            "Epoch 97/100\n",
            "36/36 - 0s - loss: 0.3936 - accuracy: 0.8039 - val_loss: 0.3779 - val_accuracy: 0.8210\n",
            "Epoch 98/100\n",
            "36/36 - 0s - loss: 0.3931 - accuracy: 0.8036 - val_loss: 0.3775 - val_accuracy: 0.8210\n",
            "Epoch 99/100\n",
            "36/36 - 0s - loss: 0.3925 - accuracy: 0.8030 - val_loss: 0.3770 - val_accuracy: 0.8210\n",
            "Epoch 100/100\n",
            "36/36 - 0s - loss: 0.3919 - accuracy: 0.8041 - val_loss: 0.3765 - val_accuracy: 0.8210\n"
          ],
          "name": "stdout"
        },
        {
          "output_type": "execute_result",
          "data": {
            "text/plain": [
              "<tensorflow.python.keras.callbacks.History at 0x7fb2a2d91160>"
            ]
          },
          "metadata": {
            "tags": []
          },
          "execution_count": 79
        }
      ]
    },
    {
      "cell_type": "code",
      "metadata": {
        "id": "pUaK3V2X6GTO",
        "colab_type": "code",
        "colab": {
          "base_uri": "https://localhost:8080/",
          "height": 35
        },
        "outputId": "edebb716-4119-442d-eb61-12a04e4abf60"
      },
      "source": [
        "test_loss, test_accuracy = model.evaluate(test_inp, test_target)"
      ],
      "execution_count": 80,
      "outputs": [
        {
          "output_type": "stream",
          "text": [
            "14/14 [==============================] - 0s 2ms/step - loss: 0.3763 - accuracy: 0.8192\n"
          ],
          "name": "stdout"
        }
      ]
    },
    {
      "cell_type": "code",
      "metadata": {
        "id": "vt-6uYTo9hxy",
        "colab_type": "code",
        "colab": {}
      },
      "source": [
        ""
      ],
      "execution_count": 0,
      "outputs": []
    },
    {
      "cell_type": "code",
      "metadata": {
        "id": "8fTEKHcK_FW8",
        "colab_type": "code",
        "colab": {}
      },
      "source": [
        ""
      ],
      "execution_count": 0,
      "outputs": []
    }
  ]
}